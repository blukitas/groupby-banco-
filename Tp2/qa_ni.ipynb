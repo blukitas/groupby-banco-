{
 "cells": [
  {
   "cell_type": "code",
   "execution_count": 1,
   "metadata": {},
   "outputs": [
    {
     "name": "stderr",
     "output_type": "stream",
     "text": [
      "C:\\Users\\nizcovich\\AppData\\Local\\Continuum\\anaconda3\\lib\\site-packages\\sklearn\\externals\\six.py:31: DeprecationWarning: The module is deprecated in version 0.21 and will be removed in version 0.23 since we've dropped support for Python 2.7. Please rely on the official version of six (https://pypi.org/project/six/).\n",
      "  \"(https://pypi.org/project/six/).\", DeprecationWarning)\n"
     ]
    }
   ],
   "source": [
    "#from Inicializacion import *\n",
    "#from Prediction import *\n",
    "from Ensambles import *\n",
    "from sklearn.ensemble import GradientBoostingRegressor, RandomForestRegressor\n",
    "from ParamsGrid import *\n",
    "import modelos_lineales"
   ]
  },
  {
   "cell_type": "code",
   "execution_count": 2,
   "metadata": {},
   "outputs": [
    {
     "name": "stderr",
     "output_type": "stream",
     "text": [
      "C:\\Users\\nizcovich\\AppData\\Local\\Continuum\\anaconda3\\lib\\site-packages\\IPython\\core\\interactiveshell.py:3058: DtypeWarning: Columns (18,19,20,21,22,47,48,49,50,51) have mixed types. Specify dtype option on import or set low_memory=False.\n",
      "  interactivity=interactivity, compiler=compiler, result=result)\n"
     ]
    }
   ],
   "source": [
    "\n",
    "df_train = pd.read_csv('00-df_final_ok.csv')\n",
    "df_test = pd.read_csv('01-df_final_test_ok.csv')"
   ]
  },
  {
   "cell_type": "code",
   "execution_count": 3,
   "metadata": {},
   "outputs": [
    {
     "name": "stdout",
     "output_type": "stream",
     "text": [
      "<class 'pandas.core.frame.DataFrame'>\n",
      "RangeIndex: 79571 entries, 0 to 79570\n",
      "Data columns (total 54 columns):\n",
      "id                            79571 non-null int64\n",
      "antiguedad                    79571 non-null int64\n",
      "habitaciones                  79571 non-null int64\n",
      "garages                       79571 non-null int64\n",
      "banos                         79571 non-null int64\n",
      "metroscubiertos               79571 non-null int64\n",
      "metrostotales                 79571 non-null int64\n",
      "gimnasio                      79571 non-null int64\n",
      "usosmultiples                 79571 non-null int64\n",
      "piscina                       79571 non-null int64\n",
      "escuelascercanas              79571 non-null int64\n",
      "centroscomercialescercanos    79571 non-null int64\n",
      "precio                        79571 non-null float64\n",
      "anio                          79571 non-null int64\n",
      "mes_sin                       79571 non-null float64\n",
      "mes_cos                       79571 non-null float64\n",
      "amenities                     79570 non-null float64\n",
      "ubicacion                     79570 non-null float64\n",
      "zonas_exclusivas              79570 non-null object\n",
      "refaccion                     79570 non-null object\n",
      "lujo                          79570 non-null object\n",
      "vigilancia                    79570 non-null object\n",
      "country                       79570 non-null object\n",
      "tipodepropiedad_0bc           79570 non-null float64\n",
      "tipodepropiedad_1bc           79570 non-null float64\n",
      "tipodepropiedad_2bc           79570 non-null float64\n",
      "tipodepropiedad_3bc           79570 non-null float64\n",
      "tipodepropiedad_4bc           79570 non-null float64\n",
      "tipodepropiedad_5bc           79570 non-null float64\n",
      "ciudad_0bc                    79570 non-null float64\n",
      "ciudad_1bc                    79570 non-null float64\n",
      "ciudad_2bc                    79570 non-null float64\n",
      "ciudad_3bc                    79570 non-null float64\n",
      "ciudad_4bc                    79570 non-null float64\n",
      "ciudad_5bc                    79570 non-null float64\n",
      "ciudad_6bc                    79570 non-null float64\n",
      "ciudad_7bc                    79570 non-null float64\n",
      "ciudad_8bc                    79570 non-null float64\n",
      "ciudad_9bc                    79570 non-null float64\n",
      "ciudad_10bc                   79570 non-null float64\n",
      "provincia_0bc                 79570 non-null float64\n",
      "provincia_1bc                 79570 non-null float64\n",
      "provincia_2bc                 79570 non-null float64\n",
      "provincia_3bc                 79570 non-null float64\n",
      "provincia_4bc                 79570 non-null float64\n",
      "provincia_5bc                 79570 non-null float64\n",
      "provincia_6bc                 79570 non-null float64\n",
      "es_Casa                       79570 non-null object\n",
      "es_Apartamento                79570 non-null object\n",
      "es_Casa_en_condominio         79570 non-null object\n",
      "es_Terreno                    79570 non-null object\n",
      "es_Local_Comercial            79570 non-null object\n",
      "patio                         79570 non-null float64\n",
      "ambientes                     79570 non-null float64\n",
      "dtypes: float64(31), int64(13), object(10)\n",
      "memory usage: 32.8+ MB\n"
     ]
    }
   ],
   "source": [
    "df_train.info()"
   ]
  },
  {
   "cell_type": "code",
   "execution_count": 4,
   "metadata": {},
   "outputs": [],
   "source": [
    "#o1 = modelos_lineales.regression_models()"
   ]
  },
  {
   "cell_type": "code",
   "execution_count": 5,
   "metadata": {},
   "outputs": [],
   "source": [
    "import regressor\n",
    "import catbtd\n",
    "import light"
   ]
  },
  {
   "cell_type": "code",
   "execution_count": 6,
   "metadata": {},
   "outputs": [
    {
     "name": "stdout",
     "output_type": "stream",
     "text": [
      "Loading data...\n"
     ]
    },
    {
     "name": "stderr",
     "output_type": "stream",
     "text": [
      "C:\\Users\\nizcovich\\AppData\\Local\\Continuum\\anaconda3\\lib\\site-packages\\IPython\\core\\interactiveshell.py:3249: DtypeWarning: Columns (18,19,20,21,22,47,48,49,50,51) have mixed types. Specify dtype option on import or set low_memory=False.\n",
      "  if (await self.run_code(code, result,  async_=asy)):\n"
     ]
    },
    {
     "name": "stdout",
     "output_type": "stream",
     "text": [
      "El set de train tiene 79570 filas y 54 columnas\n",
      "El set de test tiene 60000 filas y 53 columnas\n",
      "60000\n",
      "\n",
      "Start training...\n",
      "[10]\ttrain's l1: 0.296255\teval's l1: 0.298204\n",
      "[20]\ttrain's l1: 0.261898\teval's l1: 0.266538\n",
      "[30]\ttrain's l1: 0.250081\teval's l1: 0.256661\n",
      "[40]\ttrain's l1: 0.242628\teval's l1: 0.250465\n",
      "[50]\ttrain's l1: 0.238091\teval's l1: 0.246922\n",
      "[60]\ttrain's l1: 0.235048\teval's l1: 0.24519\n",
      "[70]\ttrain's l1: 0.233226\teval's l1: 0.244528\n",
      "[80]\ttrain's l1: 0.231196\teval's l1: 0.243743\n",
      "[90]\ttrain's l1: 0.229633\teval's l1: 0.243441\n",
      "[100]\ttrain's l1: 0.227001\teval's l1: 0.241859\n",
      "Time taken: 0 hours 0 minutes and 0.62 seconds.\n",
      "Saving model into a pickle\n",
      "Making prediction and saving into a csv\n"
     ]
    }
   ],
   "source": [
    "#r1 = regressor.Regressor()\n",
    "#c1 = catbtd.Catboost()\n",
    "l1 = light.Regressor()"
   ]
  },
  {
   "cell_type": "code",
   "execution_count": null,
   "metadata": {},
   "outputs": [],
   "source": []
  }
 ],
 "metadata": {
  "kernelspec": {
   "display_name": "Python 3",
   "language": "python",
   "name": "python3"
  },
  "language_info": {
   "codemirror_mode": {
    "name": "ipython",
    "version": 3
   },
   "file_extension": ".py",
   "mimetype": "text/x-python",
   "name": "python",
   "nbconvert_exporter": "python",
   "pygments_lexer": "ipython3",
   "version": "3.7.4"
  }
 },
 "nbformat": 4,
 "nbformat_minor": 2
}
