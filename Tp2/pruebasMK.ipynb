{
 "cells": [
  {
   "cell_type": "code",
   "execution_count": 1,
   "metadata": {},
   "outputs": [],
   "source": [
    "%load_ext autoreload"
   ]
  },
  {
   "cell_type": "code",
   "execution_count": 2,
   "metadata": {},
   "outputs": [],
   "source": [
    "%autoreload\n",
    "from Inicializacion import *\n",
    "from Prediction import *\n",
    "from ParamsGrid import *"
   ]
  },
  {
   "cell_type": "code",
   "execution_count": null,
   "metadata": {},
   "outputs": [
    {
     "name": "stdout",
     "output_type": "stream",
     "text": [
      "Inicializando\n",
      "Comenzando operaciones\n",
      "Cantidad de registros:  240000\n",
      "Cantidad de registros:  240000\n",
      "   Features engineering\n",
      "     Fecha\n",
      "     Amennities\n",
      "     Ubicacion\n",
      "     patio\n",
      "     cantidad de ambientes(incluye baño)\n",
      "     tamaño promedio del ambiente\n",
      "     densidad de construccion\n",
      "     Features basadas en la descripción\n",
      "Cantidad de registros:  240000\n",
      "   Nulls\n",
      "     Drop cols\n",
      "     Fill metros\n",
      "       Terreno\n",
      "       Apartamento\n",
      "       Metros cubiertos null\n",
      "       Metros totales null\n",
      "       Terreno comercial\n",
      "Cantidad de registros:  240000\n",
      "   Encoding\n",
      "   Encoding top 5 propiedades\n",
      "     Casa\n",
      "     Apartamento\n",
      "     Casa_en_condominio\n",
      "     Terreno\n",
      "     Local_Comercial\n",
      "Cantidad de registros:  240000\n",
      "     Predict nulls\n",
      "       fill with xgboost. Feature:  {'garages'}\n"
     ]
    }
   ],
   "source": [
    "preprocesamiento = Inicializacion()\n",
    "data = preprocesamiento.getDataframes()\n"
   ]
  },
  {
   "cell_type": "code",
   "execution_count": null,
   "metadata": {},
   "outputs": [],
   "source": [
    "data[0].shape"
   ]
  },
  {
   "cell_type": "code",
   "execution_count": null,
   "metadata": {},
   "outputs": [],
   "source": [
    "data[0].columns"
   ]
  },
  {
   "cell_type": "code",
   "execution_count": null,
   "metadata": {},
   "outputs": [],
   "source": [
    "data[0].habitaciones.unique()"
   ]
  },
  {
   "cell_type": "code",
   "execution_count": null,
   "metadata": {},
   "outputs": [],
   "source": [
    "import pickle\n",
    "\n",
    "with open('dfsInicializados.pickle','wb') as f: pickle.dump(data, f)\n",
    "\n",
    "#with open('dfsInicializados.pickle','rb') as f: data = pickle.load(f)"
   ]
  },
  {
   "cell_type": "code",
   "execution_count": null,
   "metadata": {},
   "outputs": [],
   "source": [
    "m = XGBClassifier(max_depth = 3,\n",
    "            n_estimators = 1,\n",
    "            learning_rate = 0.1,\n",
    "            reg_alpha = 0.9,\n",
    "            n_gpus = 0)"
   ]
  },
  {
   "cell_type": "code",
   "execution_count": null,
   "metadata": {},
   "outputs": [],
   "source": [
    "#m = singleModels().models['xgb']\n",
    "model = Prediction(data, m, 'xgb')\n",
    "model.train()\n",
    "model.submit()"
   ]
  },
  {
   "cell_type": "code",
   "execution_count": null,
   "metadata": {},
   "outputs": [],
   "source": [
    "import pandas as pd\n",
    "df = pd.read_csv('data/train.csv', index_col=['id'], error_bad_lines=False)"
   ]
  },
  {
   "cell_type": "code",
   "execution_count": null,
   "metadata": {},
   "outputs": [],
   "source": [
    "df.columns"
   ]
  },
  {
   "cell_type": "code",
   "execution_count": null,
   "metadata": {},
   "outputs": [],
   "source": []
  },
  {
   "cell_type": "code",
   "execution_count": null,
   "metadata": {},
   "outputs": [],
   "source": [
    "caras = df.loc[df.precio > 1.2e7]\n",
    "for i in caras.descripcion[:1000]:\n",
    "    print(i)\n",
    "    print('\\n')"
   ]
  },
  {
   "cell_type": "code",
   "execution_count": null,
   "metadata": {},
   "outputs": [],
   "source": [
    "import seaborn as sns\n",
    "import matplotlib.pyplot as plt\n",
    "\n",
    "zonas_exclusivas = ['Lomas de Chapultepec', 'Polanco', 'Bosques de las Lomas', 'Colinas del Bosque', 'Jardines del Pedregal',\n",
    "                   'Lomas Virreyes', 'Tlalpuente', 'Jardines en la Montaña', 'Bosques de Tlalpan']\n",
    "refaccion = ['a reparar', 'a refaccionar']\n",
    "lujo = ['marmol', 'mansión', 'lujo', 'jacuzzi']\n",
    "vigilancia = ['vigilancia']\n",
    "country = ['country', 'barrio privado']\n",
    "caras = df.loc[df.descripcion.str.contains('|'.join(zonas_exclusivas), na=False, case=False)]\n",
    "_, (ax0, ax1) = plt.subplots(1, 2, figsize=(15, 5))\n",
    "sns.boxplot(df['precio'], ax=ax0)\n",
    "sns.boxplot(caras['precio'], ax=ax1)\n",
    "ax1.set(xlim=(ax0.get_xlim()))"
   ]
  }
 ],
 "metadata": {
  "kernelspec": {
   "display_name": "reportesFrutalesPy3",
   "language": "python",
   "name": "reportesfrutalespy3"
  },
  "language_info": {
   "codemirror_mode": {
    "name": "ipython",
    "version": 3
   },
   "file_extension": ".py",
   "mimetype": "text/x-python",
   "name": "python",
   "nbconvert_exporter": "python",
   "pygments_lexer": "ipython3",
   "version": "3.5.2"
  }
 },
 "nbformat": 4,
 "nbformat_minor": 2
}
