{
 "cells": [
  {
   "cell_type": "code",
   "execution_count": 1,
   "metadata": {},
   "outputs": [],
   "source": [
    "%load_ext autoreload"
   ]
  },
  {
   "cell_type": "code",
   "execution_count": 2,
   "metadata": {},
   "outputs": [],
   "source": [
    "# import Inicializacion\n",
    "# # %matplotlib inline\n",
    "# import numpy as np\n",
    "# import pandas as pd\n",
    "# import seaborn as sns\n",
    "# import matplotlib.pyplot as plt\n",
    "# from numpy.ma.bench import timer\n",
    "# from scipy.sparse.linalg import svds\n",
    "# import category_encoders as ce\n",
    "# from xgboost import XGBClassifier, XGBRegressor\n",
    "# from sklearn import metrics\n",
    "# from sklearn.model_selection import RandomizedSearchCV, GridSearchCV\n",
    "# from sklearn.metrics import roc_auc_score\n",
    "# from sklearn.model_selection import StratifiedKFold\n",
    "# from datetime import datetime\n",
    "from Inicializacion import *\n",
    "from Prediction import *\n",
    "from sklearn.ensemble import GradientBoostingRegressor, RandomForestRegressor\n",
    "from ParamsGrid import *"
   ]
  },
  {
   "cell_type": "code",
   "execution_count": null,
   "metadata": {
    "scrolled": false
   },
   "outputs": [
    {
     "name": "stdout",
     "output_type": "stream",
     "text": [
      "Inicializando dataframes\n",
      "Comenzando operaciones\n",
      "\t Nulls\n",
      "\t\t Drop cols\n",
      "\t\t Fill metros\n",
      "\t\t\t Terreno\n",
      "\t\t\t Apartamento\n",
      "\t\t\t Metros cubiertos null\n",
      "\t\t\t Metros totales null\n",
      "\t\t\t Terreno comercial\n",
      "\t Encoding\n",
      "\t drop nans in selected columns\n",
      "\t\t Drop nan\n",
      "\t Cast\n",
      "\t Features engineering\n",
      "\t\t Separar fecha\n",
      "\t\t Predict nulls\n",
      "\t\t\t fill with xgboost. Feature:  {'garages'}\n",
      "\t\t\t Time taken: 0 hours 22 minutes and 23.63 seconds.\n",
      "\t\t\t\t Los mejores parametros son: \n",
      "\t\t\t\t {'subsample': 0.8, 'n_estimators': 50, 'min_child_weight': 5, 'max_depth': 4, 'learning_rate': 0.01, 'gamma': 0.5, 'colsample_bytree': 0.8}\n",
      "\t\t\t\t ------------------------\n",
      "\t\t\t\t Best score: \n",
      "\t\t\t\t 0.6695240094778201\n",
      "\t\t\t\t ------------------------\n",
      "\t\t\t fill with xgboost. Feature:  {'banos'}\n",
      "\t\t\t Time taken: 0 hours 32 minutes and 10.32 seconds.\n",
      "\t\t\t\t Los mejores parametros son: \n",
      "\t\t\t\t {'subsample': 0.8, 'n_estimators': 50, 'min_child_weight': 5, 'max_depth': 4, 'learning_rate': 0.01, 'gamma': 0.5, 'colsample_bytree': 0.8}\n",
      "\t\t\t\t ------------------------\n",
      "\t\t\t\t Best score: \n",
      "\t\t\t\t 0.6512295081967213\n",
      "\t\t\t\t ------------------------\n",
      "\t\t\t fill with xgboost. Feature:  {'habitaciones'}\n"
     ]
    }
   ],
   "source": [
    "# out = Inicializacion.Inicializacion()\n",
    "preprocesamiento = Inicializacion()\n",
    "data = preprocesamiento.getDataframes()"
   ]
  },
  {
   "cell_type": "code",
   "execution_count": null,
   "metadata": {},
   "outputs": [],
   "source": [
    "p = ParamsGrid()\n",
    "# print(ParamsGrid.param_random_forest)"
   ]
  },
  {
   "cell_type": "code",
   "execution_count": null,
   "metadata": {},
   "outputs": [],
   "source": [
    "param_random_forest = {\n",
    "        'bootstrap': [True, False], #method for sampling data points (with or without replacement)\n",
    "        #'criterion': 'mse',\n",
    "        'max_depth': [None, 10, 20, 50, 75, 100], #max number of levels in each decision tree\n",
    "        'max_features': ['auto', 'sqrt'],  # np.arange(10, 12, 15) #max number of features considered for splitting a node\n",
    "        #'max_leaf_nodes': None,\n",
    "        #'min_impurity_decrease': 0.0,\n",
    "        #'min_impurity_split': None,\n",
    "        'min_samples_leaf': np.arange(1, 2, 4), #min number of data points allowed in a leaf node\n",
    "        'min_samples_split': np.arange(2, 5, 10), #min number of data points placed in a node before the node is split\n",
    "        #'min_weight_fraction_leaf': 0.0,\n",
    "        'n_estimators': np.arange(75, 100, 200, ),  # n_estimators = number of trees in the foreset\n",
    "        #'n_jobs': 1,\n",
    "        #'oob_score': False,\n",
    "#         'random_state': 42,\n",
    "#         'verbose': 0,\n",
    "#         'warm_start': False\n",
    "    }\n"
   ]
  },
  {
   "cell_type": "code",
   "execution_count": null,
   "metadata": {},
   "outputs": [],
   "source": [
    "print(data[0].shape)\n",
    "print(data[1].shape)"
   ]
  },
  {
   "cell_type": "code",
   "execution_count": null,
   "metadata": {},
   "outputs": [],
   "source": [
    "data[1].columns"
   ]
  },
  {
   "cell_type": "code",
   "execution_count": null,
   "metadata": {
    "scrolled": false
   },
   "outputs": [],
   "source": [
    "\n",
    "# model = Prediction(data, RandomForestRegressor(), param_random_forest, 'prediction')\n",
    "# model.train()\n",
    "# model.save()"
   ]
  },
  {
   "cell_type": "code",
   "execution_count": null,
   "metadata": {
    "scrolled": false
   },
   "outputs": [],
   "source": [
    "# model.submit()"
   ]
  },
  {
   "cell_type": "code",
   "execution_count": null,
   "metadata": {},
   "outputs": [],
   "source": [
    "# answer = pd.DataFrame(list(zip(model.test_ids, model.predicted)), columns=['id', 'predicted'])\n",
    "# answer.to_csv('{}.csv'.format('result'), sep=',', index=False)\n"
   ]
  },
  {
   "cell_type": "code",
   "execution_count": null,
   "metadata": {},
   "outputs": [],
   "source": [
    "# def nulls(df):\n",
    "#     nulls = pd.DataFrame((df.isnull().sum().sort_values()/len(df)*100).round(2),columns=['porcentaje de NaN'])\n",
    "#     if (nulls.sum() == 0).bool():\n",
    "#         print(\"No hay nulls\")\n",
    "#     else:\n",
    "#         nulls.drop(nulls.loc[nulls.loc[:,'porcentaje de NaN']<=0].index, inplace=True)\n",
    "#         plt.figure(figsize=(12,8))\n",
    "#         ax = nulls['porcentaje de NaN'].plot.barh()\n",
    "#         ax.set_title('Porcentaje de valores nulos en cada columna',fontsize=20, y=1.02)\n",
    "#         ax.set_xlabel('Porcentaje del total %', fontsize=16)\n",
    "#         ax.set_ylabel('columnas', fontsize=16)\n",
    "#         ax.grid(axis='x')\n",
    "\n",
    "#         for y, x in enumerate(nulls['porcentaje de NaN']):\n",
    "#             ax.text(x, y, s=str(x)+'%', color='black', fontweight='bold',va='center')\n",
    "\n",
    "#         plt.show()\n",
    "\n",
    "# df_test = pd.read_csv('data/test.csv')\n",
    "# # nulls(df_test)\n",
    "# nulls(dfs[0])\n",
    "# nulls(dfs[1])\n",
    "\n",
    "# dfs[1].info()\n",
    "# out.df_xgb.garages_xgb.value_counts().sum()"
   ]
  }
 ],
 "metadata": {
  "kernelspec": {
   "display_name": "Python 3",
   "language": "python",
   "name": "python3"
  },
  "language_info": {
   "codemirror_mode": {
    "name": "ipython",
    "version": 3
   },
   "file_extension": ".py",
   "mimetype": "text/x-python",
   "name": "python",
   "nbconvert_exporter": "python",
   "pygments_lexer": "ipython3",
   "version": "3.7.3"
  }
 },
 "nbformat": 4,
 "nbformat_minor": 2
}
