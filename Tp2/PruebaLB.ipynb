{
 "cells": [
  {
   "cell_type": "code",
   "execution_count": 1,
   "metadata": {},
   "outputs": [],
   "source": [
    "%load_ext autoreload"
   ]
  },
  {
   "cell_type": "code",
   "execution_count": 6,
   "metadata": {},
   "outputs": [],
   "source": [
    "# import Inicializacion\n",
    "# # %matplotlib inline\n",
    "# import numpy as np\n",
    "# import pandas as pd\n",
    "# import seaborn as sns\n",
    "# import matplotlib.pyplot as plt\n",
    "# from numpy.ma.bench import timer\n",
    "# from scipy.sparse.linalg import svds\n",
    "# import category_encoders as ce\n",
    "# from xgboost import XGBClassifier, XGBRegressor\n",
    "# from sklearn import metrics\n",
    "# from sklearn.model_selection import RandomizedSearchCV, GridSearchCV\n",
    "# from sklearn.metrics import roc_auc_score\n",
    "# from sklearn.model_selection import StratifiedKFold\n",
    "# from datetime import datetime\n",
    "from Inicializacion import *\n",
    "from Prediction import *\n",
    "from sklearn.ensemble import GradientBoostingRegressor, RandomForestRegressor\n",
    "from ParamsGrid import *"
   ]
  },
  {
   "cell_type": "code",
   "execution_count": 10,
   "metadata": {
    "scrolled": false
   },
   "outputs": [
    {
     "name": "stdout",
     "output_type": "stream",
     "text": [
      "Inicializando dataframes\n",
      "Comenzando operaciones\n",
      "\t Nulls\n",
      "\t\t Drop cols\n",
      "\t\t Fill metros\n",
      "\t\t\t Terreno\n",
      "\t\t\t Apartamento\n",
      "\t\t\t Metros cubiertos null\n",
      "\t\t\t Metros totales null\n",
      "\t\t\t Terreno comercial\n",
      "\t Encoding\n",
      "\t drop nans in selected columns\n",
      "\t\t Drop nan\n",
      "\t Cast\n",
      "\t Features engineering\n",
      "\t\t Separar fecha\n",
      "\t\t Predict nulls\n",
      "\t\t\t fill with xgboost. Feature:  {'garages'}\n",
      "\t\t\t Time taken: 0 hours 1 minutes and 5.54 seconds.\n",
      "\t\t\t\t Los mejores parametros son: \n",
      "\t\t\t\t {'subsample': 0.8, 'n_estimators': 50, 'min_child_weight': 5, 'max_depth': 4, 'learning_rate': 0.01, 'gamma': 0.5, 'colsample_bytree': 0.8}\n",
      "\t\t\t\t ------------------------\n",
      "\t\t\t\t Best score: \n",
      "\t\t\t\t 0.6687381902162503\n",
      "\t\t\t\t ------------------------\n",
      "\t\t\t fill with xgboost. Feature:  {'banos'}\n",
      "\t\t\t Time taken: 0 hours 1 minutes and 29.3 seconds.\n",
      "\t\t\t\t Los mejores parametros son: \n",
      "\t\t\t\t {'subsample': 0.8, 'n_estimators': 50, 'min_child_weight': 5, 'max_depth': 4, 'learning_rate': 0.01, 'gamma': 0.5, 'colsample_bytree': 0.8}\n",
      "\t\t\t\t ------------------------\n",
      "\t\t\t\t Best score: \n",
      "\t\t\t\t 0.6506120928252076\n",
      "\t\t\t\t ------------------------\n",
      "\t\t\t fill with xgboost. Feature:  {'habitaciones'}\n",
      "\t\t\t Time taken: 0 hours 3 minutes and 11.69 seconds.\n",
      "\t\t\t\t Los mejores parametros son: \n",
      "\t\t\t\t {'subsample': 0.8, 'n_estimators': 50, 'min_child_weight': 5, 'max_depth': 4, 'learning_rate': 0.01, 'gamma': 0.5, 'colsample_bytree': 0.8}\n",
      "\t\t\t\t ------------------------\n",
      "\t\t\t\t Best score: \n",
      "\t\t\t\t 0.6947493772783293\n",
      "\t\t\t\t ------------------------\n",
      "\t\t\t fill with xgboost. Feature:  {'antiguedad'}\n"
     ]
    },
    {
     "name": "stderr",
     "output_type": "stream",
     "text": [
      "C:\\Users\\Lucas\\Anaconda3\\lib\\site-packages\\sklearn\\model_selection\\_split.py:657: Warning: The least populated class in y has only 1 members, which is too few. The minimum number of members in any class cannot be less than n_splits=2.\n",
      "  % (min_groups, self.n_splits)), Warning)\n",
      "C:\\Users\\Lucas\\Anaconda3\\lib\\site-packages\\xgboost\\core.py:587: FutureWarning: Series.base is deprecated and will be removed in a future version\n",
      "  if getattr(data, 'base', None) is not None and \\\n",
      "C:\\Users\\Lucas\\Anaconda3\\lib\\site-packages\\xgboost\\core.py:588: FutureWarning: Series.base is deprecated and will be removed in a future version\n",
      "  data.base is not None and isinstance(data, np.ndarray) \\\n"
     ]
    },
    {
     "name": "stdout",
     "output_type": "stream",
     "text": [
      "[21:12:28] WARNING: src/objective/regression_obj.cu:152: reg:linear is now deprecated in favor of reg:squarederror.\n",
      "\t\t\t Time taken: 0 hours 0 minutes and 18.91 seconds.\n",
      "\t\t\t\t Los mejores parametros son: \n",
      "\t\t\t\t {'subsample': 0.8, 'n_estimators': 50, 'min_child_weight': 5, 'max_depth': 4, 'learning_rate': 0.01, 'gamma': 0.5, 'colsample_bytree': 0.8}\n",
      "\t\t\t\t ------------------------\n",
      "\t\t\t\t Best score: \n",
      "\t\t\t\t -100.19484912441465\n",
      "\t\t\t\t ------------------------\n",
      "\t drop other nans\n",
      "\t Recast final\n",
      "Comenzando operaciones\n",
      "\t Nulls\n",
      "\t\t Drop cols\n",
      "\t\t Fill metros\n",
      "\t\t\t Terreno\n",
      "\t\t\t Apartamento\n",
      "\t\t\t Metros cubiertos null\n",
      "\t\t\t Metros totales null\n",
      "\t\t\t Terreno comercial\n",
      "\t Encoding\n",
      "\t Cast\n",
      "\t Features engineering\n",
      "\t\t Separar fecha\n",
      "\t\t Predict nulls\n",
      "\t\t\t fill with xgboost. Feature:  {'garages'}\n",
      "\t\t\t Time taken: 0 hours 0 minutes and 0.56 seconds.\n",
      "\t\t\t fill with xgboost. Feature:  {'banos'}\n",
      "\t\t\t Time taken: 0 hours 0 minutes and 0.57 seconds.\n",
      "\t\t\t fill with xgboost. Feature:  {'habitaciones'}\n",
      "\t\t\t Time taken: 0 hours 0 minutes and 1.55 seconds.\n",
      "\t\t\t fill with xgboost. Feature:  {'antiguedad'}\n",
      "[21:12:45] WARNING: src/objective/regression_obj.cu:152: reg:linear is now deprecated in favor of reg:squarederror.\n",
      "\t\t\t Time taken: 0 hours 0 minutes and 0.18 seconds.\n"
     ]
    }
   ],
   "source": [
    "# out = Inicializacion.Inicializacion()\n",
    "preprocesamiento = Inicializacion()\n",
    "data = preprocesamiento.getDataframes()"
   ]
  },
  {
   "cell_type": "code",
   "execution_count": 13,
   "metadata": {},
   "outputs": [
    {
     "ename": "SyntaxError",
     "evalue": "invalid syntax (<ipython-input-13-6f404b5daa2a>, line 3)",
     "output_type": "error",
     "traceback": [
      "\u001b[1;36m  File \u001b[1;32m\"<ipython-input-13-6f404b5daa2a>\"\u001b[1;36m, line \u001b[1;32m3\u001b[0m\n\u001b[1;33m    am_random_forest)\u001b[0m\n\u001b[1;37m                   ^\u001b[0m\n\u001b[1;31mSyntaxError\u001b[0m\u001b[1;31m:\u001b[0m invalid syntax\n"
     ]
    }
   ],
   "source": [
    "p = ParamsGrid()\n",
    "# print(ParamsGrid.param_random_forest)"
   ]
  },
  {
   "cell_type": "code",
   "execution_count": 15,
   "metadata": {},
   "outputs": [],
   "source": [
    "param_random_forest = {\n",
    "        'bootstrap': [True, False], #method for sampling data points (with or without replacement)\n",
    "        #'criterion': 'mse',\n",
    "        'max_depth': [None, 10, 20, 50, 75, 100], #max number of levels in each decision tree\n",
    "        'max_features': ['auto', 'sqrt'],  # np.arange(10, 12, 15) #max number of features considered for splitting a node\n",
    "        #'max_leaf_nodes': None,\n",
    "        #'min_impurity_decrease': 0.0,\n",
    "        #'min_impurity_split': None,\n",
    "        'min_samples_leaf': np.arange(1, 2, 4), #min number of data points allowed in a leaf node\n",
    "        'min_samples_split': np.arange(2, 5, 10), #min number of data points placed in a node before the node is split\n",
    "        #'min_weight_fraction_leaf': 0.0,\n",
    "        'n_estimators': np.arange(75, 100, 200),  # n_estimators = number of trees in the foreset\n",
    "        #'n_jobs': 1,\n",
    "        #'oob_score': False,\n",
    "#         'random_state': 42,\n",
    "#         'verbose': 0,\n",
    "#         'warm_start': False\n",
    "    }\n"
   ]
  },
  {
   "cell_type": "code",
   "execution_count": 11,
   "metadata": {},
   "outputs": [
    {
     "name": "stdout",
     "output_type": "stream",
     "text": [
      "(219442, 37)\n",
      "(60000, 36)\n"
     ]
    }
   ],
   "source": [
    "print(data[0].shape)\n",
    "print(data[1].shape)"
   ]
  },
  {
   "cell_type": "code",
   "execution_count": null,
   "metadata": {
    "scrolled": false
   },
   "outputs": [
    {
     "name": "stdout",
     "output_type": "stream",
     "text": [
      "Training...\n"
     ]
    }
   ],
   "source": [
    "\n",
    "model = Prediction(data, RandomForestRegressor(), param_random_forest, 'prediction')\n",
    "model.train()\n",
    "model.save()"
   ]
  },
  {
   "cell_type": "code",
   "execution_count": 14,
   "metadata": {
    "scrolled": true
   },
   "outputs": [
    {
     "name": "stdout",
     "output_type": "stream",
     "text": [
      "           id    predicted\n",
      "0        4941  6508612.352\n",
      "1       51775   945348.918\n",
      "2      115253  1864478.148\n",
      "3      299321  1208577.558\n",
      "4      173570   989471.282\n",
      "5       30862  2674868.858\n",
      "6      244471  3530364.140\n",
      "7      127794   988418.502\n",
      "8       71558  3677619.186\n",
      "9      218011  2796958.500\n",
      "10     148208  2604291.482\n",
      "11     155735  1038449.750\n",
      "12     100698  4477361.150\n",
      "13     241403  1532115.800\n",
      "14     195272  3085597.590\n",
      "15     238663  2427491.280\n",
      "16     262957  6580136.928\n",
      "17     207082   528956.232\n",
      "18     298896   984445.818\n",
      "19     220946  2552632.104\n",
      "20      74581  4114646.480\n",
      "21     253578  4992024.416\n",
      "22      47620  5458296.936\n",
      "23      92772  3207155.768\n",
      "24     116904  6597323.304\n",
      "25     208352  2817031.096\n",
      "26      76044   943073.920\n",
      "27     202667  5495565.352\n",
      "28      62134  4911425.004\n",
      "29     277353  4286576.452\n",
      "...       ...          ...\n",
      "59970  129589  1865656.652\n",
      "59971   85388  3619323.288\n",
      "59972   50185  2398862.514\n",
      "59973   61187  1907796.980\n",
      "59974  190799  2984362.448\n",
      "59975  163414  2125169.272\n",
      "59976   12355  2655078.132\n",
      "59977  255748  3370521.988\n",
      "59978  176567  3711360.864\n",
      "59979  220463  1713148.614\n",
      "59980  260742  3707784.352\n",
      "59981  167651  2590716.722\n",
      "59982  282440  2103978.958\n",
      "59983  168663  2483779.060\n",
      "59984  166605  2272437.052\n",
      "59985  207997  2305343.098\n",
      "59986  268896  3342017.858\n",
      "59987  149564  2082073.266\n",
      "59988   53975  2452705.008\n",
      "59989   54441  2267841.322\n",
      "59990  205625  2463963.492\n",
      "59991  284266  2216409.316\n",
      "59992   70244  2610966.204\n",
      "59993   59776  2710596.676\n",
      "59994   79100  4857457.304\n",
      "59995   75094  2349380.126\n",
      "59996  171847  2212541.594\n",
      "59997  138313  6126813.824\n",
      "59998  271268  3328482.950\n",
      "59999   72612  2291447.962\n",
      "\n",
      "[60000 rows x 2 columns]\n"
     ]
    }
   ],
   "source": [
    "model.submit()"
   ]
  },
  {
   "cell_type": "code",
   "execution_count": 15,
   "metadata": {},
   "outputs": [],
   "source": [
    "answer = pd.DataFrame(list(zip(model.test_ids, model.predicted)), columns=['id', 'predicted'])\n",
    "answer.to_csv('{}.csv'.format('result'), sep=',', index=False)\n"
   ]
  },
  {
   "cell_type": "code",
   "execution_count": null,
   "metadata": {},
   "outputs": [],
   "source": [
    "# def nulls(df):\n",
    "#     nulls = pd.DataFrame((df.isnull().sum().sort_values()/len(df)*100).round(2),columns=['porcentaje de NaN'])\n",
    "#     if (nulls.sum() == 0).bool():\n",
    "#         print(\"No hay nulls\")\n",
    "#     else:\n",
    "#         nulls.drop(nulls.loc[nulls.loc[:,'porcentaje de NaN']<=0].index, inplace=True)\n",
    "#         plt.figure(figsize=(12,8))\n",
    "#         ax = nulls['porcentaje de NaN'].plot.barh()\n",
    "#         ax.set_title('Porcentaje de valores nulos en cada columna',fontsize=20, y=1.02)\n",
    "#         ax.set_xlabel('Porcentaje del total %', fontsize=16)\n",
    "#         ax.set_ylabel('columnas', fontsize=16)\n",
    "#         ax.grid(axis='x')\n",
    "\n",
    "#         for y, x in enumerate(nulls['porcentaje de NaN']):\n",
    "#             ax.text(x, y, s=str(x)+'%', color='black', fontweight='bold',va='center')\n",
    "\n",
    "#         plt.show()\n",
    "\n",
    "# df_test = pd.read_csv('data/test.csv')\n",
    "# # nulls(df_test)\n",
    "# nulls(dfs[0])\n",
    "# nulls(dfs[1])\n",
    "\n",
    "# dfs[1].info()\n",
    "# out.df_xgb.garages_xgb.value_counts().sum()"
   ]
  }
 ],
 "metadata": {
  "kernelspec": {
   "display_name": "Python 3",
   "language": "python",
   "name": "python3"
  },
  "language_info": {
   "codemirror_mode": {
    "name": "ipython",
    "version": 3
   },
   "file_extension": ".py",
   "mimetype": "text/x-python",
   "name": "python",
   "nbconvert_exporter": "python",
   "pygments_lexer": "ipython3",
   "version": "3.7.3"
  }
 },
 "nbformat": 4,
 "nbformat_minor": 2
}
