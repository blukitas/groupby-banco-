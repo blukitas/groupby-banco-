{
 "cells": [
  {
   "cell_type": "code",
   "execution_count": 1,
   "metadata": {},
   "outputs": [],
   "source": [
    "%load_ext autoreload"
   ]
  },
  {
   "cell_type": "code",
   "execution_count": 6,
   "metadata": {},
   "outputs": [],
   "source": [
    "# import Inicializacion\n",
    "# # %matplotlib inline\n",
    "# import numpy as np\n",
    "# import pandas as pd\n",
    "# import seaborn as sns\n",
    "# import matplotlib.pyplot as plt\n",
    "# from numpy.ma.bench import timer\n",
    "# from scipy.sparse.linalg import svds\n",
    "# import category_encoders as ce\n",
    "# from xgboost import XGBClassifier, XGBRegressor\n",
    "# from sklearn import metrics\n",
    "# from sklearn.model_selection import RandomizedSearchCV, GridSearchCV\n",
    "# from sklearn.metrics import roc_auc_score\n",
    "# from sklearn.model_selection import StratifiedKFold\n",
    "# from datetime import datetime\n",
    "from Inicializacion import *\n",
    "from Prediction import *\n",
    "from sklearn.ensemble import GradientBoostingRegressor, RandomForestRegressor\n",
    "from ParamsGrid import *"
   ]
  },
  {
   "cell_type": "code",
   "execution_count": 10,
   "metadata": {
    "scrolled": false
   },
   "outputs": [
    {
     "name": "stdout",
     "output_type": "stream",
     "text": [
      "Inicializando dataframes\n",
      "Comenzando operaciones\n",
      "\t Nulls\n",
      "\t\t Drop cols\n",
      "\t\t Fill metros\n",
      "\t\t\t Terreno\n",
      "\t\t\t Apartamento\n",
      "\t\t\t Metros cubiertos null\n",
      "\t\t\t Metros totales null\n",
      "\t\t\t Terreno comercial\n",
      "\t Encoding\n",
      "\t drop nans in selected columns\n",
      "\t\t Drop nan\n",
      "\t Cast\n",
      "\t Features engineering\n",
      "\t\t Separar fecha\n",
      "\t\t Predict nulls\n",
      "\t\t\t fill with xgboost. Feature:  {'garages'}\n",
      "\t\t\t Time taken: 0 hours 1 minutes and 5.54 seconds.\n",
      "\t\t\t\t Los mejores parametros son: \n",
      "\t\t\t\t {'subsample': 0.8, 'n_estimators': 50, 'min_child_weight': 5, 'max_depth': 4, 'learning_rate': 0.01, 'gamma': 0.5, 'colsample_bytree': 0.8}\n",
      "\t\t\t\t ------------------------\n",
      "\t\t\t\t Best score: \n",
      "\t\t\t\t 0.6687381902162503\n",
      "\t\t\t\t ------------------------\n",
      "\t\t\t fill with xgboost. Feature:  {'banos'}\n",
      "\t\t\t Time taken: 0 hours 1 minutes and 29.3 seconds.\n",
      "\t\t\t\t Los mejores parametros son: \n",
      "\t\t\t\t {'subsample': 0.8, 'n_estimators': 50, 'min_child_weight': 5, 'max_depth': 4, 'learning_rate': 0.01, 'gamma': 0.5, 'colsample_bytree': 0.8}\n",
      "\t\t\t\t ------------------------\n",
      "\t\t\t\t Best score: \n",
      "\t\t\t\t 0.6506120928252076\n",
      "\t\t\t\t ------------------------\n",
      "\t\t\t fill with xgboost. Feature:  {'habitaciones'}\n",
      "\t\t\t Time taken: 0 hours 3 minutes and 11.69 seconds.\n",
      "\t\t\t\t Los mejores parametros son: \n",
      "\t\t\t\t {'subsample': 0.8, 'n_estimators': 50, 'min_child_weight': 5, 'max_depth': 4, 'learning_rate': 0.01, 'gamma': 0.5, 'colsample_bytree': 0.8}\n",
      "\t\t\t\t ------------------------\n",
      "\t\t\t\t Best score: \n",
      "\t\t\t\t 0.6947493772783293\n",
      "\t\t\t\t ------------------------\n",
      "\t\t\t fill with xgboost. Feature:  {'antiguedad'}\n"
     ]
    },
    {
     "name": "stderr",
     "output_type": "stream",
     "text": [
      "C:\\Users\\Lucas\\Anaconda3\\lib\\site-packages\\sklearn\\model_selection\\_split.py:657: Warning: The least populated class in y has only 1 members, which is too few. The minimum number of members in any class cannot be less than n_splits=2.\n",
      "  % (min_groups, self.n_splits)), Warning)\n",
      "C:\\Users\\Lucas\\Anaconda3\\lib\\site-packages\\xgboost\\core.py:587: FutureWarning: Series.base is deprecated and will be removed in a future version\n",
      "  if getattr(data, 'base', None) is not None and \\\n",
      "C:\\Users\\Lucas\\Anaconda3\\lib\\site-packages\\xgboost\\core.py:588: FutureWarning: Series.base is deprecated and will be removed in a future version\n",
      "  data.base is not None and isinstance(data, np.ndarray) \\\n"
     ]
    },
    {
     "name": "stdout",
     "output_type": "stream",
     "text": [
      "[21:12:28] WARNING: src/objective/regression_obj.cu:152: reg:linear is now deprecated in favor of reg:squarederror.\n",
      "\t\t\t Time taken: 0 hours 0 minutes and 18.91 seconds.\n",
      "\t\t\t\t Los mejores parametros son: \n",
      "\t\t\t\t {'subsample': 0.8, 'n_estimators': 50, 'min_child_weight': 5, 'max_depth': 4, 'learning_rate': 0.01, 'gamma': 0.5, 'colsample_bytree': 0.8}\n",
      "\t\t\t\t ------------------------\n",
      "\t\t\t\t Best score: \n",
      "\t\t\t\t -100.19484912441465\n",
      "\t\t\t\t ------------------------\n",
      "\t drop other nans\n",
      "\t Recast final\n",
      "Comenzando operaciones\n",
      "\t Nulls\n",
      "\t\t Drop cols\n",
      "\t\t Fill metros\n",
      "\t\t\t Terreno\n",
      "\t\t\t Apartamento\n",
      "\t\t\t Metros cubiertos null\n",
      "\t\t\t Metros totales null\n",
      "\t\t\t Terreno comercial\n",
      "\t Encoding\n",
      "\t Cast\n",
      "\t Features engineering\n",
      "\t\t Separar fecha\n",
      "\t\t Predict nulls\n",
      "\t\t\t fill with xgboost. Feature:  {'garages'}\n",
      "\t\t\t Time taken: 0 hours 0 minutes and 0.56 seconds.\n",
      "\t\t\t fill with xgboost. Feature:  {'banos'}\n",
      "\t\t\t Time taken: 0 hours 0 minutes and 0.57 seconds.\n",
      "\t\t\t fill with xgboost. Feature:  {'habitaciones'}\n",
      "\t\t\t Time taken: 0 hours 0 minutes and 1.55 seconds.\n",
      "\t\t\t fill with xgboost. Feature:  {'antiguedad'}\n",
      "[21:12:45] WARNING: src/objective/regression_obj.cu:152: reg:linear is now deprecated in favor of reg:squarederror.\n",
      "\t\t\t Time taken: 0 hours 0 minutes and 0.18 seconds.\n"
     ]
    }
   ],
   "source": [
    "# out = Inicializacion.Inicializacion()\n",
    "preprocesamiento = Inicializacion()\n",
    "data = preprocesamiento.getDataframes()"
   ]
  },
  {
   "cell_type": "code",
   "execution_count": 13,
   "metadata": {},
   "outputs": [
    {
     "ename": "SyntaxError",
     "evalue": "invalid syntax (<ipython-input-13-6f404b5daa2a>, line 3)",
     "output_type": "error",
     "traceback": [
      "\u001b[1;36m  File \u001b[1;32m\"<ipython-input-13-6f404b5daa2a>\"\u001b[1;36m, line \u001b[1;32m3\u001b[0m\n\u001b[1;33m    am_random_forest)\u001b[0m\n\u001b[1;37m                   ^\u001b[0m\n\u001b[1;31mSyntaxError\u001b[0m\u001b[1;31m:\u001b[0m invalid syntax\n"
     ]
    }
   ],
   "source": [
    "p = ParamsGrid()\n",
    "# print(ParamsGrid.param_random_forest)"
   ]
  },
  {
   "cell_type": "code",
   "execution_count": 15,
   "metadata": {},
   "outputs": [],
   "source": [
    "param_random_forest = {\n",
    "        'bootstrap': [True, False], #method for sampling data points (with or without replacement)\n",
    "        #'criterion': 'mse',\n",
    "        'max_depth': [None, 10, 20, 50, 75, 100], #max number of levels in each decision tree\n",
    "        'max_features': ['auto', 'sqrt'],  # np.arange(10, 12, 15) #max number of features considered for splitting a node\n",
    "        #'max_leaf_nodes': None,\n",
    "        #'min_impurity_decrease': 0.0,\n",
    "        #'min_impurity_split': None,\n",
    "        'min_samples_leaf': np.arange(1, 2, 4), #min number of data points allowed in a leaf node\n",
    "        'min_samples_split': np.arange(2, 5, 10), #min number of data points placed in a node before the node is split\n",
    "        #'min_weight_fraction_leaf': 0.0,\n",
    "        'n_estimators': np.arange(75, 100, 200),  # n_estimators = number of trees in the foreset\n",
    "        #'n_jobs': 1,\n",
    "        #'oob_score': False,\n",
    "#         'random_state': 42,\n",
    "#         'verbose': 0,\n",
    "#         'warm_start': False\n",
    "    }\n"
   ]
  },
  {
   "cell_type": "code",
   "execution_count": 11,
   "metadata": {},
   "outputs": [
    {
     "name": "stdout",
     "output_type": "stream",
     "text": [
      "(219442, 37)\n",
      "(60000, 36)\n"
     ]
    }
   ],
   "source": [
    "print(data[0].shape)\n",
    "print(data[1].shape)"
   ]
  },
  {
   "cell_type": "code",
   "execution_count": 16,
   "metadata": {
    "scrolled": false
   },
   "outputs": [
    {
     "name": "stdout",
     "output_type": "stream",
     "text": [
      "Training...\n",
      "{'bootstrap': False, 'max_depth': 100, 'max_features': 'sqrt', 'min_samples_leaf': 1, 'min_samples_split': 2, 'n_estimators': 75}\n",
      "-621755.2063532729\n"
     ]
    }
   ],
   "source": [
    "\n",
    "model = Prediction(data, RandomForestRegressor(), param_random_forest, 'prediction')\n",
    "model.train()\n",
    "model.save()"
   ]
  },
  {
   "cell_type": "code",
   "execution_count": 18,
   "metadata": {
    "scrolled": false
   },
   "outputs": [],
   "source": [
    "model.submit()"
   ]
  },
  {
   "cell_type": "code",
   "execution_count": 19,
   "metadata": {},
   "outputs": [],
   "source": [
    "answer = pd.DataFrame(list(zip(model.test_ids, model.predicted)), columns=['id', 'predicted'])\n",
    "answer.to_csv('{}.csv'.format('result'), sep=',', index=False)\n"
   ]
  },
  {
   "cell_type": "code",
   "execution_count": null,
   "metadata": {},
   "outputs": [],
   "source": [
    "# def nulls(df):\n",
    "#     nulls = pd.DataFrame((df.isnull().sum().sort_values()/len(df)*100).round(2),columns=['porcentaje de NaN'])\n",
    "#     if (nulls.sum() == 0).bool():\n",
    "#         print(\"No hay nulls\")\n",
    "#     else:\n",
    "#         nulls.drop(nulls.loc[nulls.loc[:,'porcentaje de NaN']<=0].index, inplace=True)\n",
    "#         plt.figure(figsize=(12,8))\n",
    "#         ax = nulls['porcentaje de NaN'].plot.barh()\n",
    "#         ax.set_title('Porcentaje de valores nulos en cada columna',fontsize=20, y=1.02)\n",
    "#         ax.set_xlabel('Porcentaje del total %', fontsize=16)\n",
    "#         ax.set_ylabel('columnas', fontsize=16)\n",
    "#         ax.grid(axis='x')\n",
    "\n",
    "#         for y, x in enumerate(nulls['porcentaje de NaN']):\n",
    "#             ax.text(x, y, s=str(x)+'%', color='black', fontweight='bold',va='center')\n",
    "\n",
    "#         plt.show()\n",
    "\n",
    "# df_test = pd.read_csv('data/test.csv')\n",
    "# # nulls(df_test)\n",
    "# nulls(dfs[0])\n",
    "# nulls(dfs[1])\n",
    "\n",
    "# dfs[1].info()\n",
    "# out.df_xgb.garages_xgb.value_counts().sum()"
   ]
  }
 ],
 "metadata": {
  "kernelspec": {
   "display_name": "Python 3",
   "language": "python",
   "name": "python3"
  },
  "language_info": {
   "codemirror_mode": {
    "name": "ipython",
    "version": 3
   },
   "file_extension": ".py",
   "mimetype": "text/x-python",
   "name": "python",
   "nbconvert_exporter": "python",
   "pygments_lexer": "ipython3",
   "version": "3.7.3"
  }
 },
 "nbformat": 4,
 "nbformat_minor": 2
}
