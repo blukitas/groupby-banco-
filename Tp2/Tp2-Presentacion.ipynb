{
 "cells": [
  {
   "cell_type": "markdown",
   "metadata": {},
   "source": [
    "# Trabajo práctico 2: Machine Learning"
   ]
  },
  {
   "cell_type": "code",
   "execution_count": 1,
   "metadata": {},
   "outputs": [],
   "source": [
    "import pandas as pd"
   ]
  },
  {
   "cell_type": "code",
   "execution_count": 2,
   "metadata": {},
   "outputs": [],
   "source": [
    "# Df ya inicializado\n",
    "df_test = pd.read_csv('01-df_final_test_ok.csv')"
   ]
  },
  {
   "cell_type": "code",
   "execution_count": 3,
   "metadata": {},
   "outputs": [
    {
     "name": "stdout",
     "output_type": "stream",
     "text": [
      "<class 'pandas.core.frame.DataFrame'>\n",
      "RangeIndex: 60000 entries, 0 to 59999\n",
      "Data columns (total 56 columns):\n",
      "id                            60000 non-null int64\n",
      "antiguedad                    60000 non-null float64\n",
      "habitaciones                  60000 non-null float64\n",
      "garages                       60000 non-null float64\n",
      "banos                         60000 non-null float64\n",
      "metroscubiertos               60000 non-null float64\n",
      "metrostotales                 60000 non-null float64\n",
      "gimnasio                      60000 non-null int64\n",
      "usosmultiples                 60000 non-null int64\n",
      "piscina                       60000 non-null int64\n",
      "escuelascercanas              60000 non-null int64\n",
      "centroscomercialescercanos    60000 non-null int64\n",
      "anio                          60000 non-null int64\n",
      "mes_sin                       60000 non-null float64\n",
      "mes_cos                       60000 non-null float64\n",
      "amenities                     60000 non-null int64\n",
      "ubicacion                     60000 non-null int64\n",
      "zonas_exclusivas              60000 non-null bool\n",
      "refaccion                     60000 non-null bool\n",
      "lujo                          60000 non-null bool\n",
      "vigilancia                    60000 non-null bool\n",
      "country                       60000 non-null bool\n",
      "tipodepropiedad_0bc           60000 non-null int64\n",
      "tipodepropiedad_1bc           60000 non-null int64\n",
      "tipodepropiedad_2bc           60000 non-null int64\n",
      "tipodepropiedad_3bc           60000 non-null int64\n",
      "tipodepropiedad_4bc           60000 non-null int64\n",
      "tipodepropiedad_5bc           60000 non-null int64\n",
      "ciudad_0bc                    60000 non-null int64\n",
      "ciudad_1bc                    60000 non-null int64\n",
      "ciudad_2bc                    60000 non-null int64\n",
      "ciudad_3bc                    60000 non-null int64\n",
      "ciudad_4bc                    60000 non-null int64\n",
      "ciudad_5bc                    60000 non-null int64\n",
      "ciudad_6bc                    60000 non-null int64\n",
      "ciudad_7bc                    60000 non-null int64\n",
      "ciudad_8bc                    60000 non-null int64\n",
      "ciudad_9bc                    60000 non-null int64\n",
      "ciudad_10bc                   60000 non-null int64\n",
      "provincia_0bc                 60000 non-null int64\n",
      "provincia_1bc                 60000 non-null int64\n",
      "provincia_2bc                 60000 non-null int64\n",
      "provincia_3bc                 60000 non-null int64\n",
      "provincia_4bc                 60000 non-null int64\n",
      "provincia_5bc                 60000 non-null int64\n",
      "provincia_6bc                 60000 non-null int64\n",
      "es_Casa                       60000 non-null bool\n",
      "es_Apartamento                60000 non-null bool\n",
      "es_Casa_en_condominio         60000 non-null bool\n",
      "es_Terreno                    60000 non-null bool\n",
      "es_Local_Comercial            60000 non-null bool\n",
      "patio                         60000 non-null float64\n",
      "ambientes                     60000 non-null float64\n",
      "prom_amb                      60000 non-null float64\n",
      "construccion_density          60000 non-null float64\n",
      "ban_a_hab                     60000 non-null float64\n",
      "dtypes: bool(10), float64(13), int64(33)\n",
      "memory usage: 21.6 MB\n"
     ]
    }
   ],
   "source": [
    "df_test.info()"
   ]
  },
  {
   "cell_type": "markdown",
   "metadata": {},
   "source": [
    "### Importamos el pickle que contiene el modelo guardado"
   ]
  },
  {
   "cell_type": "code",
   "execution_count": 4,
   "metadata": {},
   "outputs": [],
   "source": [
    "import pickle\n",
    "import xgboost"
   ]
  },
  {
   "cell_type": "code",
   "execution_count": 5,
   "metadata": {},
   "outputs": [],
   "source": [
    "from xgboost import XGBClassifier, XGBRegressor"
   ]
  },
  {
   "cell_type": "code",
   "execution_count": 6,
   "metadata": {},
   "outputs": [],
   "source": [
    "xgb = pickle.load(open(\"pickles/xgboost.pkl\", 'rb'))"
   ]
  },
  {
   "cell_type": "markdown",
   "metadata": {},
   "source": [
    "### Seleccionamos las columnas que utilizaremos"
   ]
  },
  {
   "cell_type": "code",
   "execution_count": 7,
   "metadata": {},
   "outputs": [],
   "source": [
    "x_cols = [x for x in df_test.columns if x!='id']"
   ]
  },
  {
   "cell_type": "code",
   "execution_count": 8,
   "metadata": {},
   "outputs": [],
   "source": [
    "x_test = df_test.loc[:,x_cols]"
   ]
  },
  {
   "cell_type": "markdown",
   "metadata": {},
   "source": [
    "### Predecimos los valores con el modelo ya entrenado"
   ]
  },
  {
   "cell_type": "code",
   "execution_count": 9,
   "metadata": {},
   "outputs": [],
   "source": [
    "test= xgboost.DMatrix(x_test)"
   ]
  },
  {
   "cell_type": "code",
   "execution_count": 10,
   "metadata": {},
   "outputs": [],
   "source": [
    "y_test_pred = xgb.predict(test)"
   ]
  },
  {
   "cell_type": "markdown",
   "metadata": {},
   "source": [
    "### Exponenciamos el precio predecido"
   ]
  },
  {
   "cell_type": "code",
   "execution_count": 11,
   "metadata": {},
   "outputs": [],
   "source": [
    "import numpy as np"
   ]
  },
  {
   "cell_type": "code",
   "execution_count": 12,
   "metadata": {},
   "outputs": [],
   "source": [
    "final_pred = np.expm1(y_test_pred)\n"
   ]
  },
  {
   "cell_type": "markdown",
   "metadata": {},
   "source": [
    "### Generamos el csv que permite hacer el submit a Kaggle"
   ]
  },
  {
   "cell_type": "code",
   "execution_count": 13,
   "metadata": {},
   "outputs": [],
   "source": [
    "answer = pd.DataFrame(columns=['id','target'])\n",
    "answer['id'] = df_test['id']\n",
    "answer['target'] = final_pred\n",
    "answer.to_csv('submit.csv', index=False)"
   ]
  }
 ],
 "metadata": {
  "kernelspec": {
   "display_name": "Python 3",
   "language": "python",
   "name": "python3"
  },
  "language_info": {
   "codemirror_mode": {
    "name": "ipython",
    "version": 3
   },
   "file_extension": ".py",
   "mimetype": "text/x-python",
   "name": "python",
   "nbconvert_exporter": "python",
   "pygments_lexer": "ipython3",
   "version": "3.7.3"
  }
 },
 "nbformat": 4,
 "nbformat_minor": 2
}
