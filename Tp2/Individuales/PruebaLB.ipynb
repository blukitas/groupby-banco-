{
 "cells": [
  {
   "cell_type": "code",
   "execution_count": 1,
   "metadata": {},
   "outputs": [],
   "source": [
    "%load_ext autoreload"
   ]
  },
  {
   "cell_type": "code",
   "execution_count": 2,
   "metadata": {},
   "outputs": [],
   "source": [
    "# import Inicializacion\n",
    "# # %matplotlib inline\n",
    "# import numpy as np\n",
    "# import pandas as pd\n",
    "# import seaborn as sns\n",
    "# import matplotlib.pyplot as plt\n",
    "# from numpy.ma.bench import timer\n",
    "# from scipy.sparse.linalg import svds\n",
    "# import category_encoders as ce\n",
    "# from xgboost import XGBClassifier, XGBRegressor\n",
    "# from sklearn import metrics\n",
    "# from sklearn.model_selection import RandomizedSearchCV, GridSearchCV\n",
    "# from sklearn.metrics import roc_auc_score\n",
    "# from sklearn.model_selection import StratifiedKFold\n",
    "# from datetime import datetime\n",
    "from Inicializacion import *\n",
    "from Prediction import *\n",
    "# from Ensambles import *\n",
    "from sklearn.ensemble import GradientBoostingRegressor, RandomForestRegressor\n",
    "from ParamsGrid import *"
   ]
  },
  {
   "cell_type": "code",
   "execution_count": 3,
   "metadata": {},
   "outputs": [],
   "source": [
    "# e = Ensambles()"
   ]
  },
  {
   "cell_type": "code",
   "execution_count": 4,
   "metadata": {
    "scrolled": true
   },
   "outputs": [
    {
     "name": "stdout",
     "output_type": "stream",
     "text": [
      "Inicializando\n",
      "Comenzando operaciones\n",
      "     Fill metros\n",
      "       Terreno\n",
      "       Apartamento\n",
      "       Metros cubiertos null\n",
      "       Metros totales null\n",
      "       Terreno comercial\n",
      "   Features engineering\n",
      "     Fecha\n",
      "     Amennities\n",
      "     Ubicacion\n",
      "     Features basadas en la descripción\n",
      "   Nulls\n",
      "     Drop cols\n",
      "   Encoding\n",
      "   Encoding top 5 propiedades\n",
      "     Casa\n",
      "     Apartamento\n",
      "     Casa_en_condominio\n",
      "     Terreno\n",
      "     Local_Comercial\n",
      "   drop nans in selected columns\n",
      "     Predict nulls\n",
      "       fill with xgboost. Feature:  {'garages'}\n",
      "       Time taken: 0 hours 4 minutes and 13.92 seconds.\n",
      "         Los mejores parametros son: \n",
      "         {'verbosity': 0, 'reg_alpha': 0, 'random_state': 42, 'n_estimators': 100, 'min_child_weight': 1, 'max_depth': 3, 'learning_rate': 0.1, 'gamma': 0, 'colsample_bytree': 1, 'colsample_bynode': 1, 'colsample_bylevel': 1}\n",
      "         ------------------------\n",
      "         Best score: \n",
      "         0.6797781774580336\n",
      "         ------------------------\n",
      "       fill with xgboost. Feature:  {'banos'}\n",
      "       Time taken: 0 hours 3 minutes and 18.44 seconds.\n",
      "         Los mejores parametros son: \n",
      "         {'verbosity': 0, 'reg_alpha': 0, 'random_state': 42, 'n_estimators': 100, 'min_child_weight': 1, 'max_depth': 3, 'learning_rate': 0.1, 'gamma': 0, 'colsample_bytree': 1, 'colsample_bynode': 1, 'colsample_bylevel': 1}\n",
      "         ------------------------\n",
      "         Best score: \n",
      "         0.6756891883985512\n",
      "         ------------------------\n",
      "       fill with xgboost. Feature:  {'habitaciones'}\n",
      "       Time taken: 0 hours 7 minutes and 26.27 seconds.\n",
      "         Los mejores parametros son: \n",
      "         {'verbosity': 0, 'reg_alpha': 0, 'random_state': 42, 'n_estimators': 100, 'min_child_weight': 1, 'max_depth': 3, 'learning_rate': 0.1, 'gamma': 0, 'colsample_bytree': 1, 'colsample_bynode': 1, 'colsample_bylevel': 1}\n",
      "         ------------------------\n",
      "         Best score: \n",
      "         0.7069606966932014\n",
      "         ------------------------\n",
      "       fill with xgboost. Feature:  {'antiguedad'}\n"
     ]
    },
    {
     "name": "stderr",
     "output_type": "stream",
     "text": [
      "C:\\Users\\Lucas\\Anaconda3\\lib\\site-packages\\xgboost\\core.py:587: FutureWarning: Series.base is deprecated and will be removed in a future version\n",
      "  if getattr(data, 'base', None) is not None and \\\n",
      "C:\\Users\\Lucas\\Anaconda3\\lib\\site-packages\\xgboost\\core.py:588: FutureWarning: Series.base is deprecated and will be removed in a future version\n",
      "  data.base is not None and isinstance(data, np.ndarray) \\\n"
     ]
    },
    {
     "name": "stdout",
     "output_type": "stream",
     "text": [
      "       Time taken: 0 hours 0 minutes and 42.46 seconds.\n",
      "         Los mejores parametros son: \n",
      "         {'verbosity': 0, 'reg_alpha': 0, 'random_state': 42, 'n_estimators': 100, 'min_child_weight': 1, 'max_depth': 3, 'learning_rate': 0.1, 'gamma': 0, 'colsample_bytree': 1, 'colsample_bynode': 1, 'colsample_bylevel': 1}\n",
      "         ------------------------\n",
      "         Best score: \n",
      "         -71.69537847317716\n",
      "         ------------------------\n",
      "     patio\n",
      "     cantidad de ambientes(incluye baño)\n",
      "nulls en divisor:\n",
      "     tamaño promedio del ambiente\n"
     ]
    },
    {
     "data": {
      "image/png": "[encoded data removed]",
      "text/plain": [
       "<Figure size 864x576 with 1 Axes>"
      ]
     },
     "metadata": {
      "needs_background": "light"
     },
     "output_type": "display_data"
    },
    {
     "name": "stdout",
     "output_type": "stream",
     "text": [
      "     densidad de construccion\n",
      "   drop other nans\n",
      "   Recast final\n",
      "['antiguedad', 'habitaciones', 'garages', 'banos', 'metroscubiertos', 'metrostotales', 'patio', 'ambientes', 'ban_a_hab']\n",
      "Columnas finales: \n",
      "Index(['id', 'antiguedad', 'habitaciones', 'garages', 'banos',\n",
      "       'metroscubiertos', 'metrostotales', 'gimnasio', 'usosmultiples',\n",
      "       'piscina', 'escuelascercanas', 'centroscomercialescercanos', 'precio',\n",
      "       'anio', 'mes_sin', 'mes_cos', 'amenities', 'ubicacion',\n",
      "       'zonas_exclusivas', 'refaccion', 'lujo', 'vigilancia', 'country',\n",
      "       'tipodepropiedad_0bc', 'tipodepropiedad_1bc', 'tipodepropiedad_2bc',\n",
      "       'tipodepropiedad_3bc', 'tipodepropiedad_4bc', 'tipodepropiedad_5bc',\n",
      "       'ciudad_0bc', 'ciudad_1bc', 'ciudad_2bc', 'ciudad_3bc', 'ciudad_4bc',\n",
      "       'ciudad_5bc', 'ciudad_6bc', 'ciudad_7bc', 'ciudad_8bc', 'ciudad_9bc',\n",
      "       'ciudad_10bc', 'provincia_0bc', 'provincia_1bc', 'provincia_2bc',\n",
      "       'provincia_3bc', 'provincia_4bc', 'provincia_5bc', 'provincia_6bc',\n",
      "       'es_Casa', 'es_Apartamento', 'es_Casa_en_condominio', 'es_Terreno',\n",
      "       'es_Local_Comercial', 'patio', 'ambientes', 'prom_amb',\n",
      "       'construccion_density', 'ban_a_hab'],\n",
      "      dtype='object')\n",
      "Comenzando operaciones\n",
      "     Fill metros\n",
      "       Terreno\n",
      "       Apartamento\n",
      "       Metros cubiertos null\n",
      "       Metros totales null\n",
      "       Terreno comercial\n",
      "   Features engineering\n",
      "     Fecha\n",
      "     Amennities\n",
      "     Ubicacion\n",
      "     Features basadas en la descripción\n",
      "   Nulls\n",
      "     Drop cols\n",
      "   Encoding\n",
      "   Encoding top 5 propiedades\n",
      "     Casa\n",
      "     Apartamento\n",
      "     Casa_en_condominio\n",
      "     Terreno\n",
      "     Local_Comercial\n",
      "   drop nans in selected columns\n",
      "     Predict nulls\n",
      "       fill with xgboost. Feature:  {'garages'}\n",
      "       Time taken: 0 hours 0 minutes and 1.16 seconds.\n",
      "       fill with xgboost. Feature:  {'banos'}\n",
      "       Time taken: 0 hours 0 minutes and 1.18 seconds.\n",
      "       fill with xgboost. Feature:  {'habitaciones'}\n",
      "       Time taken: 0 hours 0 minutes and 2.96 seconds.\n",
      "       fill with xgboost. Feature:  {'antiguedad'}\n",
      "[13:32:40] WARNING: src/objective/regression_obj.cu:152: reg:linear is now deprecated in favor of reg:squarederror.\n",
      "       Time taken: 0 hours 0 minutes and 0.49 seconds.\n",
      "     patio\n",
      "     cantidad de ambientes(incluye baño)\n",
      "nulls en divisor:\n",
      "     tamaño promedio del ambiente\n",
      "No hay nulls\n",
      "     densidad de construccion\n",
      "Columnas finales: \n",
      "Index(['id', 'antiguedad', 'habitaciones', 'garages', 'banos',\n",
      "       'metroscubiertos', 'metrostotales', 'gimnasio', 'usosmultiples',\n",
      "       'piscina', 'escuelascercanas', 'centroscomercialescercanos', 'anio',\n",
      "       'mes_sin', 'mes_cos', 'amenities', 'ubicacion', 'zonas_exclusivas',\n",
      "       'refaccion', 'lujo', 'vigilancia', 'country', 'tipodepropiedad_0bc',\n",
      "       'tipodepropiedad_1bc', 'tipodepropiedad_2bc', 'tipodepropiedad_3bc',\n",
      "       'tipodepropiedad_4bc', 'tipodepropiedad_5bc', 'ciudad_0bc',\n",
      "       'ciudad_1bc', 'ciudad_2bc', 'ciudad_3bc', 'ciudad_4bc', 'ciudad_5bc',\n",
      "       'ciudad_6bc', 'ciudad_7bc', 'ciudad_8bc', 'ciudad_9bc', 'ciudad_10bc',\n",
      "       'provincia_0bc', 'provincia_1bc', 'provincia_2bc', 'provincia_3bc',\n",
      "       'provincia_4bc', 'provincia_5bc', 'provincia_6bc', 'es_Casa',\n",
      "       'es_Apartamento', 'es_Casa_en_condominio', 'es_Terreno',\n",
      "       'es_Local_Comercial', 'patio', 'ambientes', 'prom_amb',\n",
      "       'construccion_density', 'ban_a_hab'],\n",
      "      dtype='object')\n"
     ]
    },
    {
     "data": {
      "text/plain": [
       "<Figure size 432x288 with 0 Axes>"
      ]
     },
     "metadata": {},
     "output_type": "display_data"
    }
   ],
   "source": [
    "# out = Inicializacion.Inicializacion()\n",
    "preprocesamiento = Inicializacion()\n",
    "data = preprocesamiento.getDataframes()"
   ]
  },
  {
   "cell_type": "code",
   "execution_count": 5,
   "metadata": {},
   "outputs": [],
   "source": [
    "p = ParamsGrid()\n",
    "# print(ParamsGrid.param_random_forest)"
   ]
  },
  {
   "cell_type": "code",
   "execution_count": 6,
   "metadata": {},
   "outputs": [],
   "source": [
    "param_random_forest = {\n",
    "        'bootstrap': [True, False], #method for sampling data points (with or without replacement)\n",
    "        #'criterion': 'mse',\n",
    "        'max_depth': [None, 10, 20, 50, 75, 100], #max number of levels in each decision tree\n",
    "        'max_features': ['auto', 'sqrt'],  # np.arange(10, 12, 15) #max number of features considered for splitting a node\n",
    "        #'max_leaf_nodes': None,\n",
    "        #'min_impurity_decrease': 0.0,\n",
    "        #'min_impurity_split': None,\n",
    "        'min_samples_leaf': np.arange(1, 2, 4), #min number of data points allowed in a leaf node\n",
    "        'min_samples_split': np.arange(2, 5, 10), #min number of data points placed in a node before the node is split\n",
    "        #'min_weight_fraction_leaf': 0.0,\n",
    "        'n_estimators': np.arange(75, 100, 200, ),  # n_estimators = number of trees in the foreset\n",
    "        #'n_jobs': 1,\n",
    "        #'oob_score': False,\n",
    "#         'random_state': 42,\n",
    "#         'verbose': 0,\n",
    "#         'warm_start': False\n",
    "    }\n"
   ]
  },
  {
   "cell_type": "code",
   "execution_count": 7,
   "metadata": {},
   "outputs": [
    {
     "name": "stdout",
     "output_type": "stream",
     "text": [
      "(219698, 57)\n",
      "(60000, 56)\n"
     ]
    }
   ],
   "source": [
    "print(data[0].shape)\n",
    "print(data[1].shape)"
   ]
  },
  {
   "cell_type": "code",
   "execution_count": 10,
   "metadata": {},
   "outputs": [
    {
     "data": {
      "text/plain": [
       "(RandomForestRegressor(bootstrap=True, criterion='mse', max_depth=None,\n",
       "                       max_features='auto', max_leaf_nodes=None,\n",
       "                       min_impurity_decrease=0.0, min_impurity_split=None,\n",
       "                       min_samples_leaf=1, min_samples_split=2,\n",
       "                       min_weight_fraction_leaf=0.0, n_estimators='warn',\n",
       "                       n_jobs=None, oob_score=False, random_state=None,\n",
       "                       verbose=0, warm_start=False),\n",
       " {'bootstrap': [True, False],\n",
       "  'max_depth': array([None, 2, 5, 8, 11, 14, 17], dtype=object),\n",
       "  'max_features': ['auto', 'sqrt'],\n",
       "  'min_samples_leaf': array([10, 15, 20, 25]),\n",
       "  'min_samples_split': array([ 2,  5,  8, 11, 14, 17]),\n",
       "  'n_estimators': array([1200, 1400, 1600])})"
      ]
     },
     "execution_count": 10,
     "metadata": {},
     "output_type": "execute_result"
    }
   ],
   "source": [
    "p.metodos['RandomForest']"
   ]
  },
  {
   "cell_type": "code",
   "execution_count": 14,
   "metadata": {},
   "outputs": [],
   "source": [
    "from regressor import *"
   ]
  },
  {
   "cell_type": "code",
   "execution_count": 15,
   "metadata": {
    "scrolled": false
   },
   "outputs": [
    {
     "name": "stdout",
     "output_type": "stream",
     "text": [
      "Loading data...\n",
      "El set de train tiene 219698 filas y 57 columnas\n",
      "El set de test tiene 60000 filas y 56 columnas\n",
      "Start training...\n",
      "[0]\teval-mae:12.9214\ttrain-mae:12.9147\n"
     ]
    },
    {
     "ename": "KeyboardInterrupt",
     "evalue": "",
     "output_type": "error",
     "traceback": [
      "\u001b[1;31m---------------------------------------------------------------------------\u001b[0m",
      "\u001b[1;31mKeyboardInterrupt\u001b[0m                         Traceback (most recent call last)",
      "\u001b[1;32m<ipython-input-15-c6da419d0e70>\u001b[0m in \u001b[0;36m<module>\u001b[1;34m\u001b[0m\n\u001b[1;32m----> 1\u001b[1;33m \u001b[0mr\u001b[0m \u001b[1;33m=\u001b[0m \u001b[0mRegressor\u001b[0m\u001b[1;33m(\u001b[0m\u001b[1;33m)\u001b[0m\u001b[1;33m\u001b[0m\u001b[1;33m\u001b[0m\u001b[0m\n\u001b[0m\u001b[0;32m      2\u001b[0m \u001b[1;31m# model = Prediction(data, p.metodos['RandomForest'][0], 'prediction', p.metodos['RandomForest'][1])\u001b[0m\u001b[1;33m\u001b[0m\u001b[1;33m\u001b[0m\u001b[1;33m\u001b[0m\u001b[0m\n\u001b[0;32m      3\u001b[0m \u001b[1;31m# model.gridSearchTrain()\u001b[0m\u001b[1;33m\u001b[0m\u001b[1;33m\u001b[0m\u001b[1;33m\u001b[0m\u001b[0m\n\u001b[0;32m      4\u001b[0m \u001b[1;31m# model.save()\u001b[0m\u001b[1;33m\u001b[0m\u001b[1;33m\u001b[0m\u001b[1;33m\u001b[0m\u001b[0m\n",
      "\u001b[1;32m~\\Desktop\\Organizacion de datos\\TP1\\groupby-banco-\\Tp2\\regressor.py\u001b[0m in \u001b[0;36m__init__\u001b[1;34m(self)\u001b[0m\n\u001b[0;32m     26\u001b[0m                 \u001b[0mprint\u001b[0m\u001b[1;33m(\u001b[0m\u001b[1;34m'El set de test tiene {} filas y {} columnas'\u001b[0m\u001b[1;33m.\u001b[0m\u001b[0mformat\u001b[0m\u001b[1;33m(\u001b[0m\u001b[0mself\u001b[0m\u001b[1;33m.\u001b[0m\u001b[0mdf_test\u001b[0m\u001b[1;33m.\u001b[0m\u001b[0mshape\u001b[0m\u001b[1;33m[\u001b[0m\u001b[1;36m0\u001b[0m\u001b[1;33m]\u001b[0m\u001b[1;33m,\u001b[0m\u001b[0mself\u001b[0m\u001b[1;33m.\u001b[0m\u001b[0mdf_test\u001b[0m\u001b[1;33m.\u001b[0m\u001b[0mshape\u001b[0m\u001b[1;33m[\u001b[0m\u001b[1;36m1\u001b[0m\u001b[1;33m]\u001b[0m\u001b[1;33m)\u001b[0m\u001b[1;33m)\u001b[0m\u001b[1;33m\u001b[0m\u001b[1;33m\u001b[0m\u001b[0m\n\u001b[0;32m     27\u001b[0m \u001b[1;33m\u001b[0m\u001b[0m\n\u001b[1;32m---> 28\u001b[1;33m                 \u001b[0mself\u001b[0m\u001b[1;33m.\u001b[0m\u001b[0mdo_pipeline\u001b[0m\u001b[1;33m(\u001b[0m\u001b[1;33m)\u001b[0m\u001b[1;33m\u001b[0m\u001b[1;33m\u001b[0m\u001b[0m\n\u001b[0m\u001b[0;32m     29\u001b[0m \u001b[1;33m\u001b[0m\u001b[0m\n\u001b[0;32m     30\u001b[0m         \u001b[1;32mdef\u001b[0m \u001b[0mdo_pipeline\u001b[0m\u001b[1;33m(\u001b[0m\u001b[0mself\u001b[0m\u001b[1;33m)\u001b[0m\u001b[1;33m:\u001b[0m\u001b[1;33m\u001b[0m\u001b[1;33m\u001b[0m\u001b[0m\n",
      "\u001b[1;32m~\\Desktop\\Organizacion de datos\\TP1\\groupby-banco-\\Tp2\\regressor.py\u001b[0m in \u001b[0;36mdo_pipeline\u001b[1;34m(self)\u001b[0m\n\u001b[0;32m     30\u001b[0m         \u001b[1;32mdef\u001b[0m \u001b[0mdo_pipeline\u001b[0m\u001b[1;33m(\u001b[0m\u001b[0mself\u001b[0m\u001b[1;33m)\u001b[0m\u001b[1;33m:\u001b[0m\u001b[1;33m\u001b[0m\u001b[1;33m\u001b[0m\u001b[0m\n\u001b[0;32m     31\u001b[0m                 \u001b[0mxgb_train\u001b[0m\u001b[1;33m,\u001b[0m\u001b[0mxgb_eval\u001b[0m \u001b[1;33m=\u001b[0m \u001b[0mself\u001b[0m\u001b[1;33m.\u001b[0m\u001b[0mprepare_data\u001b[0m\u001b[1;33m(\u001b[0m\u001b[1;33m)\u001b[0m\u001b[1;33m\u001b[0m\u001b[1;33m\u001b[0m\u001b[0m\n\u001b[1;32m---> 32\u001b[1;33m                 \u001b[0my_test\u001b[0m \u001b[1;33m=\u001b[0m \u001b[0mself\u001b[0m\u001b[1;33m.\u001b[0m\u001b[0mtrain_model_nocv\u001b[0m\u001b[1;33m(\u001b[0m\u001b[0mxgb_train\u001b[0m\u001b[1;33m,\u001b[0m \u001b[0mxgb_eval\u001b[0m\u001b[1;33m)\u001b[0m\u001b[1;33m\u001b[0m\u001b[1;33m\u001b[0m\u001b[0m\n\u001b[0m\u001b[0;32m     33\u001b[0m                 \u001b[0mself\u001b[0m\u001b[1;33m.\u001b[0m\u001b[0msave_prediction\u001b[0m\u001b[1;33m(\u001b[0m\u001b[0my_test\u001b[0m\u001b[1;33m,\u001b[0m\u001b[1;34m'XGBoost'\u001b[0m\u001b[1;33m)\u001b[0m\u001b[1;33m\u001b[0m\u001b[1;33m\u001b[0m\u001b[0m\n\u001b[0;32m     34\u001b[0m \u001b[1;33m\u001b[0m\u001b[0m\n",
      "\u001b[1;32m~\\Desktop\\Organizacion de datos\\TP1\\groupby-banco-\\Tp2\\regressor.py\u001b[0m in \u001b[0;36mtrain_model_nocv\u001b[1;34m(self, xgb_train, xgb_eval)\u001b[0m\n\u001b[0;32m     95\u001b[0m                                 \u001b[1;36m1200\u001b[0m\u001b[1;33m,\u001b[0m\u001b[1;33m\u001b[0m\u001b[1;33m\u001b[0m\u001b[0m\n\u001b[0;32m     96\u001b[0m                                 \u001b[0mwatchlist\u001b[0m\u001b[1;33m,\u001b[0m\u001b[1;33m\u001b[0m\u001b[1;33m\u001b[0m\u001b[0m\n\u001b[1;32m---> 97\u001b[1;33m                                 \u001b[0mverbose_eval\u001b[0m\u001b[1;33m=\u001b[0m\u001b[1;36m200\u001b[0m\u001b[1;33m\u001b[0m\u001b[1;33m\u001b[0m\u001b[0m\n\u001b[0m\u001b[0;32m     98\u001b[0m \t\t\t)\n\u001b[0;32m     99\u001b[0m \u001b[1;33m\u001b[0m\u001b[0m\n",
      "\u001b[1;32m~\\Anaconda3\\lib\\site-packages\\xgboost\\training.py\u001b[0m in \u001b[0;36mtrain\u001b[1;34m(params, dtrain, num_boost_round, evals, obj, feval, maximize, early_stopping_rounds, evals_result, verbose_eval, xgb_model, callbacks, learning_rates)\u001b[0m\n\u001b[0;32m    214\u001b[0m                            \u001b[0mevals\u001b[0m\u001b[1;33m=\u001b[0m\u001b[0mevals\u001b[0m\u001b[1;33m,\u001b[0m\u001b[1;33m\u001b[0m\u001b[1;33m\u001b[0m\u001b[0m\n\u001b[0;32m    215\u001b[0m                            \u001b[0mobj\u001b[0m\u001b[1;33m=\u001b[0m\u001b[0mobj\u001b[0m\u001b[1;33m,\u001b[0m \u001b[0mfeval\u001b[0m\u001b[1;33m=\u001b[0m\u001b[0mfeval\u001b[0m\u001b[1;33m,\u001b[0m\u001b[1;33m\u001b[0m\u001b[1;33m\u001b[0m\u001b[0m\n\u001b[1;32m--> 216\u001b[1;33m                            xgb_model=xgb_model, callbacks=callbacks)\n\u001b[0m\u001b[0;32m    217\u001b[0m \u001b[1;33m\u001b[0m\u001b[0m\n\u001b[0;32m    218\u001b[0m \u001b[1;33m\u001b[0m\u001b[0m\n",
      "\u001b[1;32m~\\Anaconda3\\lib\\site-packages\\xgboost\\training.py\u001b[0m in \u001b[0;36m_train_internal\u001b[1;34m(params, dtrain, num_boost_round, evals, obj, feval, xgb_model, callbacks)\u001b[0m\n\u001b[0;32m     72\u001b[0m         \u001b[1;31m# Skip the first update if it is a recovery step.\u001b[0m\u001b[1;33m\u001b[0m\u001b[1;33m\u001b[0m\u001b[1;33m\u001b[0m\u001b[0m\n\u001b[0;32m     73\u001b[0m         \u001b[1;32mif\u001b[0m \u001b[0mversion\u001b[0m \u001b[1;33m%\u001b[0m \u001b[1;36m2\u001b[0m \u001b[1;33m==\u001b[0m \u001b[1;36m0\u001b[0m\u001b[1;33m:\u001b[0m\u001b[1;33m\u001b[0m\u001b[1;33m\u001b[0m\u001b[0m\n\u001b[1;32m---> 74\u001b[1;33m             \u001b[0mbst\u001b[0m\u001b[1;33m.\u001b[0m\u001b[0mupdate\u001b[0m\u001b[1;33m(\u001b[0m\u001b[0mdtrain\u001b[0m\u001b[1;33m,\u001b[0m \u001b[0mi\u001b[0m\u001b[1;33m,\u001b[0m \u001b[0mobj\u001b[0m\u001b[1;33m)\u001b[0m\u001b[1;33m\u001b[0m\u001b[1;33m\u001b[0m\u001b[0m\n\u001b[0m\u001b[0;32m     75\u001b[0m             \u001b[0mbst\u001b[0m\u001b[1;33m.\u001b[0m\u001b[0msave_rabit_checkpoint\u001b[0m\u001b[1;33m(\u001b[0m\u001b[1;33m)\u001b[0m\u001b[1;33m\u001b[0m\u001b[1;33m\u001b[0m\u001b[0m\n\u001b[0;32m     76\u001b[0m             \u001b[0mversion\u001b[0m \u001b[1;33m+=\u001b[0m \u001b[1;36m1\u001b[0m\u001b[1;33m\u001b[0m\u001b[1;33m\u001b[0m\u001b[0m\n",
      "\u001b[1;32m~\\Anaconda3\\lib\\site-packages\\xgboost\\core.py\u001b[0m in \u001b[0;36mupdate\u001b[1;34m(self, dtrain, iteration, fobj)\u001b[0m\n\u001b[0;32m   1107\u001b[0m         \u001b[1;32mif\u001b[0m \u001b[0mfobj\u001b[0m \u001b[1;32mis\u001b[0m \u001b[1;32mNone\u001b[0m\u001b[1;33m:\u001b[0m\u001b[1;33m\u001b[0m\u001b[1;33m\u001b[0m\u001b[0m\n\u001b[0;32m   1108\u001b[0m             _check_call(_LIB.XGBoosterUpdateOneIter(self.handle, ctypes.c_int(iteration),\n\u001b[1;32m-> 1109\u001b[1;33m                                                     dtrain.handle))\n\u001b[0m\u001b[0;32m   1110\u001b[0m         \u001b[1;32melse\u001b[0m\u001b[1;33m:\u001b[0m\u001b[1;33m\u001b[0m\u001b[1;33m\u001b[0m\u001b[0m\n\u001b[0;32m   1111\u001b[0m             \u001b[0mpred\u001b[0m \u001b[1;33m=\u001b[0m \u001b[0mself\u001b[0m\u001b[1;33m.\u001b[0m\u001b[0mpredict\u001b[0m\u001b[1;33m(\u001b[0m\u001b[0mdtrain\u001b[0m\u001b[1;33m)\u001b[0m\u001b[1;33m\u001b[0m\u001b[1;33m\u001b[0m\u001b[0m\n",
      "\u001b[1;31mKeyboardInterrupt\u001b[0m: "
     ]
    }
   ],
   "source": [
    "r = Regressor()\n",
    "# model = Prediction(data, p.metodos['RandomForest'][0], 'prediction', p.metodos['RandomForest'][1])\n",
    "# model.gridSearchTrain()\n",
    "# model.save()"
   ]
  },
  {
   "cell_type": "code",
   "execution_count": null,
   "metadata": {
    "scrolled": false
   },
   "outputs": [],
   "source": [
    "type(model.gscv)"
   ]
  },
  {
   "cell_type": "code",
   "execution_count": null,
   "metadata": {},
   "outputs": [],
   "source": [
    "answer = pd.DataFrame(list(zip(model.test_ids, model.predicted)), columns=['id', 'predicted'])\n",
    "answer.to_csv('{}.csv'.format('result'), sep=',', index=False)\n"
   ]
  },
  {
   "cell_type": "code",
   "execution_count": null,
   "metadata": {},
   "outputs": [],
   "source": [
    "# def nulls(df):\n",
    "#     nulls = pd.DataFrame((df.isnull().sum().sort_values()/len(df)*100).round(2),columns=['porcentaje de NaN'])\n",
    "#     if (nulls.sum() == 0).bool():\n",
    "#         print(\"No hay nulls\")\n",
    "#     else:\n",
    "#         nulls.drop(nulls.loc[nulls.loc[:,'porcentaje de NaN']<=0].index, inplace=True)\n",
    "#         plt.figure(figsize=(12,8))\n",
    "#         ax = nulls['porcentaje de NaN'].plot.barh()\n",
    "#         ax.set_title('Porcentaje de valores nulos en cada columna',fontsize=20, y=1.02)\n",
    "#         ax.set_xlabel('Porcentaje del total %', fontsize=16)\n",
    "#         ax.set_ylabel('columnas', fontsize=16)\n",
    "#         ax.grid(axis='x')\n",
    "\n",
    "#         for y, x in enumerate(nulls['porcentaje de NaN']):\n",
    "#             ax.text(x, y, s=str(x)+'%', color='black', fontweight='bold',va='center')\n",
    "\n",
    "#         plt.show()\n",
    "\n",
    "# df_test = pd.read_csv('data/test.csv')\n",
    "# # nulls(df_test)\n",
    "# nulls(dfs[0])\n",
    "# nulls(dfs[1])\n",
    "\n",
    "# dfs[1].info()\n",
    "# out.df_xgb.garages_xgb.value_counts().sum()"
   ]
  },
  {
   "cell_type": "code",
   "execution_count": null,
   "metadata": {},
   "outputs": [],
   "source": [
    "df_train = pd.read_csv('00-df_final.csv')\n"
   ]
  },
  {
   "cell_type": "code",
   "execution_count": null,
   "metadata": {},
   "outputs": [],
   "source": [
    "df_train.columns"
   ]
  },
  {
   "cell_type": "code",
   "execution_count": null,
   "metadata": {},
   "outputs": [],
   "source": [
    "# plt.hist(df_train['habitaciones'])"
   ]
  }
 ],
 "metadata": {
  "kernelspec": {
   "display_name": "Python 3",
   "language": "python",
   "name": "python3"
  },
  "language_info": {
   "codemirror_mode": {
    "name": "ipython",
    "version": 3
   },
   "file_extension": ".py",
   "mimetype": "text/x-python",
   "name": "python",
   "nbconvert_exporter": "python",
   "pygments_lexer": "ipython3",
   "version": "3.7.3"
  }
 },
 "nbformat": 4,
 "nbformat_minor": 2
}
